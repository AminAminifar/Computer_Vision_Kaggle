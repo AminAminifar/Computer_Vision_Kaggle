{
 "cells": [
  {
   "cell_type": "markdown",
   "id": "79429efe",
   "metadata": {},
   "source": [
    "# L5: Custom Convnets"
   ]
  },
  {
   "cell_type": "code",
   "execution_count": 1,
   "id": "7426dec0",
   "metadata": {},
   "outputs": [],
   "source": [
    "import os, warnings\n",
    "import matplotlib.pyplot as plt\n",
    "from matplotlib import gridspec\n",
    "\n",
    "import numpy as np\n",
    "import tensorflow as tf\n",
    "from tensorflow.keras.preprocessing import image_dataset_from_directory\n",
    "\n",
    "from tensorflow import keras\n",
    "from tensorflow.keras import layers\n",
    "\n",
    "import pandas as pd"
   ]
  },
  {
   "cell_type": "markdown",
   "id": "0e754018",
   "metadata": {},
   "source": [
    "Step 1 - Load Data"
   ]
  },
  {
   "cell_type": "code",
   "execution_count": 2,
   "id": "35bcbeeb",
   "metadata": {},
   "outputs": [
    {
     "name": "stdout",
     "output_type": "stream",
     "text": [
      "Found 5117 files belonging to 2 classes.\n",
      "Found 5051 files belonging to 2 classes.\n"
     ]
    }
   ],
   "source": [
    "# Reproducability\n",
    "def set_seed(seed=31415):\n",
    "    np.random.seed(seed)\n",
    "    tf.random.set_seed(seed)\n",
    "    os.environ['PYTHONHASHSEED'] = str(seed)\n",
    "    os.environ['TF_DETERMINISTIC_OPS'] = '1'\n",
    "set_seed()\n",
    "\n",
    "# Set Matplotlib defaults\n",
    "plt.rc('figure', autolayout=True)\n",
    "plt.rc('axes', labelweight='bold', labelsize='large',\n",
    "       titleweight='bold', titlesize=18, titlepad=10)\n",
    "plt.rc('image', cmap='magma')\n",
    "warnings.filterwarnings(\"ignore\") # to clean up output cells\n",
    "\n",
    "\n",
    "# Load training and validation sets\n",
    "ds_train_ = image_dataset_from_directory(\n",
    "    'C:/Amin/Workspace/Data/Kaggle/Computer Vision/archive/train',\n",
    "    labels='inferred',\n",
    "    label_mode='binary',\n",
    "    image_size=[128, 128],\n",
    "    interpolation='nearest',\n",
    "    batch_size=64,\n",
    "    shuffle=True,\n",
    ")\n",
    "ds_valid_ = image_dataset_from_directory(\n",
    "    'C:/Amin/Workspace/Data/Kaggle/Computer Vision/archive/valid',\n",
    "    labels='inferred',\n",
    "    label_mode='binary',\n",
    "    image_size=[128, 128],\n",
    "    interpolation='nearest',\n",
    "    batch_size=64,\n",
    "    shuffle=False,\n",
    ")\n",
    "\n",
    "# Data Pipeline\n",
    "def convert_to_float(image, label):\n",
    "    image = tf.image.convert_image_dtype(image, dtype=tf.float32)\n",
    "    return image, label\n",
    "\n",
    "AUTOTUNE = tf.data.experimental.AUTOTUNE\n",
    "ds_train = (\n",
    "    ds_train_\n",
    "    .map(convert_to_float)\n",
    "    .cache()\n",
    "    .prefetch(buffer_size=AUTOTUNE)\n",
    ")\n",
    "ds_valid = (\n",
    "    ds_valid_\n",
    "    .map(convert_to_float)\n",
    "    .cache()\n",
    "    .prefetch(buffer_size=AUTOTUNE)\n",
    ")"
   ]
  },
  {
   "cell_type": "markdown",
   "id": "06710b6c",
   "metadata": {},
   "source": [
    "Step 2 - Define Model"
   ]
  },
  {
   "cell_type": "code",
   "execution_count": 3,
   "id": "91c55e18",
   "metadata": {},
   "outputs": [
    {
     "name": "stdout",
     "output_type": "stream",
     "text": [
      "Model: \"sequential\"\n",
      "_________________________________________________________________\n",
      " Layer (type)                Output Shape              Param #   \n",
      "=================================================================\n",
      " conv2d (Conv2D)             (None, 128, 128, 32)      2432      \n",
      "                                                                 \n",
      " max_pooling2d (MaxPooling2D  (None, 64, 64, 32)       0         \n",
      " )                                                               \n",
      "                                                                 \n",
      " conv2d_1 (Conv2D)           (None, 64, 64, 64)        18496     \n",
      "                                                                 \n",
      " max_pooling2d_1 (MaxPooling  (None, 32, 32, 64)       0         \n",
      " 2D)                                                             \n",
      "                                                                 \n",
      " conv2d_2 (Conv2D)           (None, 32, 32, 128)       73856     \n",
      "                                                                 \n",
      " max_pooling2d_2 (MaxPooling  (None, 16, 16, 128)      0         \n",
      " 2D)                                                             \n",
      "                                                                 \n",
      " flatten (Flatten)           (None, 32768)             0         \n",
      "                                                                 \n",
      " dense (Dense)               (None, 6)                 196614    \n",
      "                                                                 \n",
      " dense_1 (Dense)             (None, 1)                 7         \n",
      "                                                                 \n",
      "=================================================================\n",
      "Total params: 291,405\n",
      "Trainable params: 291,405\n",
      "Non-trainable params: 0\n",
      "_________________________________________________________________\n"
     ]
    }
   ],
   "source": [
    "model = keras.Sequential([\n",
    "\n",
    "    # First Convolutional Block\n",
    "    layers.Conv2D(filters=32, kernel_size=5, activation=\"relu\", padding='same',\n",
    "                  # give the input dimensions in the first layer\n",
    "                  # [height, width, color channels(RGB)]\n",
    "                  input_shape=[128, 128, 3]),\n",
    "    layers.MaxPool2D(),\n",
    "\n",
    "    # Second Convolutional Block\n",
    "    layers.Conv2D(filters=64, kernel_size=3, activation=\"relu\", padding='same'),\n",
    "    layers.MaxPool2D(),\n",
    "\n",
    "    # Third Convolutional Block\n",
    "    layers.Conv2D(filters=128, kernel_size=3, activation=\"relu\", padding='same'),\n",
    "    layers.MaxPool2D(),\n",
    "\n",
    "    # Classifier Head\n",
    "    layers.Flatten(),\n",
    "    layers.Dense(units=6, activation=\"relu\"),\n",
    "    layers.Dense(units=1, activation=\"sigmoid\"),\n",
    "])\n",
    "model.summary()"
   ]
  },
  {
   "cell_type": "markdown",
   "id": "13800fac",
   "metadata": {},
   "source": [
    "Step 3 - Train"
   ]
  },
  {
   "cell_type": "code",
   "execution_count": 4,
   "id": "64b0d0c3",
   "metadata": {},
   "outputs": [],
   "source": [
    "model.compile(\n",
    "    optimizer=tf.keras.optimizers.Adam(epsilon=0.01),\n",
    "    loss='binary_crossentropy',\n",
    "    metrics=['binary_accuracy']\n",
    ")"
   ]
  },
  {
   "cell_type": "code",
   "execution_count": 5,
   "id": "41f55ce7",
   "metadata": {},
   "outputs": [
    {
     "name": "stdout",
     "output_type": "stream",
     "text": [
      "Epoch 1/40\n",
      "80/80 [==============================] - 7s 56ms/step - loss: 0.6830 - binary_accuracy: 0.5697 - val_loss: 0.6714 - val_binary_accuracy: 0.5775\n",
      "Epoch 2/40\n",
      "80/80 [==============================] - 4s 45ms/step - loss: 0.6665 - binary_accuracy: 0.5953 - val_loss: 0.6577 - val_binary_accuracy: 0.6151\n",
      "Epoch 3/40\n",
      "80/80 [==============================] - 4s 45ms/step - loss: 0.6568 - binary_accuracy: 0.6109 - val_loss: 0.6505 - val_binary_accuracy: 0.6221\n",
      "Epoch 4/40\n",
      "80/80 [==============================] - 4s 46ms/step - loss: 0.6491 - binary_accuracy: 0.6209 - val_loss: 0.6430 - val_binary_accuracy: 0.6302\n",
      "Epoch 5/40\n",
      "80/80 [==============================] - 4s 46ms/step - loss: 0.6394 - binary_accuracy: 0.6351 - val_loss: 0.6323 - val_binary_accuracy: 0.6409\n",
      "Epoch 6/40\n",
      "80/80 [==============================] - 4s 47ms/step - loss: 0.6260 - binary_accuracy: 0.6527 - val_loss: 0.6228 - val_binary_accuracy: 0.6448\n",
      "Epoch 7/40\n",
      "80/80 [==============================] - 4s 48ms/step - loss: 0.6128 - binary_accuracy: 0.6625 - val_loss: 0.6181 - val_binary_accuracy: 0.6529\n",
      "Epoch 8/40\n",
      "80/80 [==============================] - 4s 47ms/step - loss: 0.6004 - binary_accuracy: 0.6777 - val_loss: 0.6181 - val_binary_accuracy: 0.6567\n",
      "Epoch 9/40\n",
      "80/80 [==============================] - 4s 46ms/step - loss: 0.5881 - binary_accuracy: 0.6926 - val_loss: 0.6115 - val_binary_accuracy: 0.6662\n",
      "Epoch 10/40\n",
      "80/80 [==============================] - 4s 46ms/step - loss: 0.5734 - binary_accuracy: 0.7094 - val_loss: 0.5921 - val_binary_accuracy: 0.6838\n",
      "Epoch 11/40\n",
      "80/80 [==============================] - 4s 45ms/step - loss: 0.5551 - binary_accuracy: 0.7243 - val_loss: 0.5691 - val_binary_accuracy: 0.6987\n",
      "Epoch 12/40\n",
      "80/80 [==============================] - 4s 45ms/step - loss: 0.5248 - binary_accuracy: 0.7514 - val_loss: 0.5467 - val_binary_accuracy: 0.7254\n",
      "Epoch 13/40\n",
      "80/80 [==============================] - 4s 46ms/step - loss: 0.4963 - binary_accuracy: 0.7684 - val_loss: 0.5267 - val_binary_accuracy: 0.7395\n",
      "Epoch 14/40\n",
      "80/80 [==============================] - 4s 46ms/step - loss: 0.4696 - binary_accuracy: 0.7887 - val_loss: 0.5217 - val_binary_accuracy: 0.7446\n",
      "Epoch 15/40\n",
      "80/80 [==============================] - 4s 46ms/step - loss: 0.4399 - binary_accuracy: 0.8069 - val_loss: 0.4923 - val_binary_accuracy: 0.7672\n",
      "Epoch 16/40\n",
      "80/80 [==============================] - 4s 46ms/step - loss: 0.4099 - binary_accuracy: 0.8224 - val_loss: 0.4786 - val_binary_accuracy: 0.7751\n",
      "Epoch 17/40\n",
      "80/80 [==============================] - 4s 46ms/step - loss: 0.3812 - binary_accuracy: 0.8431 - val_loss: 0.4839 - val_binary_accuracy: 0.7731\n",
      "Epoch 18/40\n",
      "80/80 [==============================] - 4s 47ms/step - loss: 0.3525 - binary_accuracy: 0.8558 - val_loss: 0.4916 - val_binary_accuracy: 0.7682\n",
      "Epoch 19/40\n",
      "80/80 [==============================] - 4s 47ms/step - loss: 0.3203 - binary_accuracy: 0.8720 - val_loss: 0.5050 - val_binary_accuracy: 0.7694\n",
      "Epoch 20/40\n",
      "80/80 [==============================] - 4s 46ms/step - loss: 0.2867 - binary_accuracy: 0.8894 - val_loss: 0.5161 - val_binary_accuracy: 0.7773\n",
      "Epoch 21/40\n",
      "80/80 [==============================] - 4s 46ms/step - loss: 0.2520 - binary_accuracy: 0.9015 - val_loss: 0.5315 - val_binary_accuracy: 0.7802\n",
      "Epoch 22/40\n",
      "80/80 [==============================] - 4s 47ms/step - loss: 0.2306 - binary_accuracy: 0.9093 - val_loss: 0.6338 - val_binary_accuracy: 0.7593\n",
      "Epoch 23/40\n",
      "80/80 [==============================] - 4s 46ms/step - loss: 0.2172 - binary_accuracy: 0.9119 - val_loss: 0.5672 - val_binary_accuracy: 0.7846\n",
      "Epoch 24/40\n",
      "80/80 [==============================] - 4s 46ms/step - loss: 0.2196 - binary_accuracy: 0.9095 - val_loss: 0.6986 - val_binary_accuracy: 0.7476\n",
      "Epoch 25/40\n",
      "80/80 [==============================] - 4s 46ms/step - loss: 0.2270 - binary_accuracy: 0.9038 - val_loss: 1.0047 - val_binary_accuracy: 0.6785\n",
      "Epoch 26/40\n",
      "80/80 [==============================] - 4s 47ms/step - loss: 0.1992 - binary_accuracy: 0.9252 - val_loss: 0.6177 - val_binary_accuracy: 0.7745\n",
      "Epoch 27/40\n",
      "80/80 [==============================] - 4s 46ms/step - loss: 0.1542 - binary_accuracy: 0.9429 - val_loss: 0.5265 - val_binary_accuracy: 0.8058\n",
      "Epoch 28/40\n",
      "80/80 [==============================] - 4s 46ms/step - loss: 0.1411 - binary_accuracy: 0.9451 - val_loss: 0.5939 - val_binary_accuracy: 0.7868\n",
      "Epoch 29/40\n",
      "80/80 [==============================] - 4s 47ms/step - loss: 0.1536 - binary_accuracy: 0.9398 - val_loss: 0.6362 - val_binary_accuracy: 0.7907\n",
      "Epoch 30/40\n",
      "80/80 [==============================] - 4s 48ms/step - loss: 0.1576 - binary_accuracy: 0.9353 - val_loss: 0.6330 - val_binary_accuracy: 0.7895\n",
      "Epoch 31/40\n",
      "80/80 [==============================] - 4s 47ms/step - loss: 0.1216 - binary_accuracy: 0.9543 - val_loss: 0.8352 - val_binary_accuracy: 0.7642\n",
      "Epoch 32/40\n",
      "80/80 [==============================] - 4s 48ms/step - loss: 0.1060 - binary_accuracy: 0.9597 - val_loss: 0.6888 - val_binary_accuracy: 0.7973\n",
      "Epoch 33/40\n",
      "80/80 [==============================] - 4s 46ms/step - loss: 0.0798 - binary_accuracy: 0.9709 - val_loss: 0.7316 - val_binary_accuracy: 0.7955\n",
      "Epoch 34/40\n",
      "80/80 [==============================] - 4s 46ms/step - loss: 0.0690 - binary_accuracy: 0.9764 - val_loss: 0.9182 - val_binary_accuracy: 0.7735\n",
      "Epoch 35/40\n",
      "80/80 [==============================] - 4s 46ms/step - loss: 0.0625 - binary_accuracy: 0.9787 - val_loss: 1.0449 - val_binary_accuracy: 0.7598\n",
      "Epoch 36/40\n",
      "80/80 [==============================] - 4s 47ms/step - loss: 0.0621 - binary_accuracy: 0.9775 - val_loss: 0.9693 - val_binary_accuracy: 0.7763\n",
      "Epoch 37/40\n",
      "80/80 [==============================] - 4s 46ms/step - loss: 0.0621 - binary_accuracy: 0.9787 - val_loss: 0.7281 - val_binary_accuracy: 0.8070\n",
      "Epoch 38/40\n",
      "80/80 [==============================] - 4s 46ms/step - loss: 0.0756 - binary_accuracy: 0.9701 - val_loss: 0.7329 - val_binary_accuracy: 0.8070\n",
      "Epoch 39/40\n",
      "80/80 [==============================] - 4s 46ms/step - loss: 0.0914 - binary_accuracy: 0.9642 - val_loss: 0.6636 - val_binary_accuracy: 0.8089\n",
      "Epoch 40/40\n",
      "80/80 [==============================] - 4s 46ms/step - loss: 0.0868 - binary_accuracy: 0.9674 - val_loss: 0.7337 - val_binary_accuracy: 0.7933\n"
     ]
    }
   ],
   "source": [
    "history = model.fit(\n",
    "    ds_train,\n",
    "    validation_data=ds_valid,\n",
    "    epochs=40,\n",
    "    verbose=1,\n",
    ")"
   ]
  },
  {
   "cell_type": "code",
   "execution_count": 6,
   "id": "24b1349d",
   "metadata": {},
   "outputs": [
    {
     "data": {
      "image/png": "[encoded data removed]",
      "text/plain": [
       "<Figure size 432x288 with 1 Axes>"
      ]
     },
     "metadata": {
      "needs_background": "light"
     },
     "output_type": "display_data"
    },
    {
     "data": {
      "image/png": "[encoded data removed]",
      "text/plain": [
       "<Figure size 432x288 with 1 Axes>"
      ]
     },
     "metadata": {
      "needs_background": "light"
     },
     "output_type": "display_data"
    }
   ],
   "source": [
    "history_frame = pd.DataFrame(history.history)\n",
    "history_frame.loc[:, ['loss', 'val_loss']].plot()\n",
    "history_frame.loc[:, ['binary_accuracy', 'val_binary_accuracy']].plot();"
   ]
  }
 ],
 "metadata": {
  "kernelspec": {
   "display_name": "Python 3 (ipykernel)",
   "language": "python",
   "name": "python3"
  },
  "language_info": {
   "codemirror_mode": {
    "name": "ipython",
    "version": 3
   },
   "file_extension": ".py",
   "mimetype": "text/x-python",
   "name": "python",
   "nbconvert_exporter": "python",
   "pygments_lexer": "ipython3",
   "version": "3.9.12"
  }
 },
 "nbformat": 4,
 "nbformat_minor": 5
}
