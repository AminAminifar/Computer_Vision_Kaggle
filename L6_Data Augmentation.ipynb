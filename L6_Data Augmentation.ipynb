{
 "cells": [
  {
   "cell_type": "markdown",
   "id": "57d0d9b8",
   "metadata": {},
   "source": [
    "# L6: Data Augmentation"
   ]
  },
  {
   "cell_type": "markdown",
   "id": "012c6f8e",
   "metadata": {},
   "source": [
    "Usefulness of Fake Data: add in some extra fake data that looks reasonably like the real data\n",
    "- improve the performance of a machine learning model by training it on more data\n",
    "- helps the model to generalize better\n",
    "- transform the images in our dataset in ways that preserve the class (teach our classifier to ignore those kinds of transformations)"
   ]
  },
  {
   "cell_type": "markdown",
   "id": "134f244c",
   "metadata": {},
   "source": [
    "- Several kinds of transformation: rotating the image, adjusting the color or contrast, warping the image, or many other things usually applied in combination\n",
    "- Data augmentation is usually done online as the images are being fed into the network for training. Each time an image is used during training, a new random transformation is applied\n",
    "- not every transformation will be useful on a given problem: If you were training a digit recognizer, for instance, rotating images would mix up '9's and '6's. The best approach for finding good augmentations is the same as with most ML problems: try it and see."
   ]
  },
  {
   "cell_type": "markdown",
   "id": "f21eac0e",
   "metadata": {},
   "source": [
    "Example - Training with Data Augmentation:\n",
    "\n",
    "Keras lets you augment your data in two ways:\n",
    "- include it in the data pipeline with a function like ImageDataGenerator\n",
    "- include it in the model definition by using Keras's preprocessing layers"
   ]
  },
  {
   "cell_type": "code",
   "execution_count": 1,
   "id": "068f9c4f",
   "metadata": {},
   "outputs": [],
   "source": [
    "# Imports\n",
    "import os, warnings\n",
    "import matplotlib.pyplot as plt\n",
    "from matplotlib import gridspec\n",
    "\n",
    "import numpy as np\n",
    "import tensorflow as tf\n",
    "from tensorflow.keras.preprocessing import image_dataset_from_directory\n",
    "\n",
    "from tensorflow import keras\n",
    "from tensorflow.keras import layers\n",
    "# these are a new feature in TF 2.2\n",
    "from tensorflow.keras.layers.experimental import preprocessing\n",
    "\n",
    "import pandas as pd"
   ]
  },
  {
   "cell_type": "code",
   "execution_count": 2,
   "id": "10cdf8d4",
   "metadata": {},
   "outputs": [
    {
     "name": "stdout",
     "output_type": "stream",
     "text": [
      "Found 5117 files belonging to 2 classes.\n",
      "Found 5051 files belonging to 2 classes.\n"
     ]
    }
   ],
   "source": [
    "# Reproducability\n",
    "def set_seed(seed=31415):\n",
    "    np.random.seed(seed)\n",
    "    tf.random.set_seed(seed)\n",
    "    os.environ['PYTHONHASHSEED'] = str(seed)\n",
    "    os.environ['TF_DETERMINISTIC_OPS'] = '1'\n",
    "set_seed()\n",
    "\n",
    "# Set Matplotlib defaults\n",
    "plt.rc('figure', autolayout=True)\n",
    "plt.rc('axes', labelweight='bold', labelsize='large',\n",
    "       titleweight='bold', titlesize=18, titlepad=10)\n",
    "plt.rc('image', cmap='magma')\n",
    "warnings.filterwarnings(\"ignore\") # to clean up output cells\n",
    "\n",
    "\n",
    "# Load training and validation sets\n",
    "ds_train_ = image_dataset_from_directory(\n",
    "    'C:/Amin/Workspace/Data/Kaggle/Computer Vision/archive/train',\n",
    "    labels='inferred',\n",
    "    label_mode='binary',\n",
    "    image_size=[128, 128],\n",
    "    interpolation='nearest',\n",
    "    batch_size=64,\n",
    "    shuffle=True,\n",
    ")\n",
    "ds_valid_ = image_dataset_from_directory(\n",
    "    'C:/Amin/Workspace/Data/Kaggle/Computer Vision/archive/valid',\n",
    "    labels='inferred',\n",
    "    label_mode='binary',\n",
    "    image_size=[128, 128],\n",
    "    interpolation='nearest',\n",
    "    batch_size=64,\n",
    "    shuffle=False,\n",
    ")\n",
    "\n",
    "# Data Pipeline\n",
    "def convert_to_float(image, label):\n",
    "    image = tf.image.convert_image_dtype(image, dtype=tf.float32)\n",
    "    return image, label\n",
    "\n",
    "AUTOTUNE = tf.data.experimental.AUTOTUNE\n",
    "ds_train = (\n",
    "    ds_train_\n",
    "    .map(convert_to_float)\n",
    "    .cache()\n",
    "    .prefetch(buffer_size=AUTOTUNE)\n",
    ")\n",
    "ds_valid = (\n",
    "    ds_valid_\n",
    "    .map(convert_to_float)\n",
    "    .cache()\n",
    "    .prefetch(buffer_size=AUTOTUNE)\n",
    ")"
   ]
  },
  {
   "cell_type": "markdown",
   "id": "735a7e65",
   "metadata": {},
   "source": [
    "Step 2 - Define Model"
   ]
  },
  {
   "cell_type": "code",
   "execution_count": 3,
   "id": "d74cf14a",
   "metadata": {},
   "outputs": [
    {
     "name": "stdout",
     "output_type": "stream",
     "text": [
      "WARNING:tensorflow:SavedModel saved prior to TF 2.5 detected when loading Keras model. Please ensure that you are saving the model with model.save() or tf.keras.models.save_model(), *NOT* tf.saved_model.save(). To confirm, there should be a file named \"keras_metadata.pb\" in the SavedModel directory.\n",
      "WARNING:tensorflow:No training configuration found in save file, so the model was *not* compiled. Compile it manually.\n"
     ]
    }
   ],
   "source": [
    "pretrained_base = tf.keras.models.load_model(\n",
    "    'C:/Amin/Workspace/Data/Kaggle/Computer Vision/archive (2)/cv-course-models/vgg16-pretrained-base',\n",
    ")\n",
    "pretrained_base.trainable = False\n",
    "\n",
    "model = keras.Sequential([\n",
    "    # Preprocessing\n",
    "    preprocessing.RandomFlip('horizontal'), # flip left-to-right\n",
    "#     preprocessing.RandomContrast(0.5), # contrast change by up to 50%\n",
    "\n",
    "    # Base\n",
    "    pretrained_base,\n",
    "    \n",
    "    # Head\n",
    "    layers.Flatten(),\n",
    "    layers.Dense(6, activation='relu'),\n",
    "    layers.Dense(1, activation='sigmoid'),\n",
    "])\n",
    "\n",
    "# model.summary()"
   ]
  },
  {
   "cell_type": "markdown",
   "id": "452f16c4",
   "metadata": {},
   "source": [
    "Step 3 - Train and Evaluate"
   ]
  },
  {
   "cell_type": "code",
   "execution_count": 4,
   "id": "408ae4e9",
   "metadata": {},
   "outputs": [],
   "source": [
    "model.compile(\n",
    "    optimizer='adam',\n",
    "    loss='binary_crossentropy',\n",
    "    metrics=['binary_accuracy'],\n",
    ")\n"
   ]
  },
  {
   "cell_type": "code",
   "execution_count": 5,
   "id": "dd3fd88e",
   "metadata": {},
   "outputs": [
    {
     "name": "stdout",
     "output_type": "stream",
     "text": [
      "Epoch 1/30\n",
      "80/80 [==============================] - 25s 251ms/step - loss: 0.4833 - binary_accuracy: 0.7626 - val_loss: 0.3827 - val_binary_accuracy: 0.8400\n",
      "Epoch 2/30\n",
      "80/80 [==============================] - 17s 208ms/step - loss: 0.3599 - binary_accuracy: 0.8446 - val_loss: 0.3450 - val_binary_accuracy: 0.8521\n",
      "Epoch 3/30\n",
      "80/80 [==============================] - 17s 208ms/step - loss: 0.3200 - binary_accuracy: 0.8644 - val_loss: 0.3275 - val_binary_accuracy: 0.8634\n",
      "Epoch 4/30\n",
      "80/80 [==============================] - 17s 209ms/step - loss: 0.2925 - binary_accuracy: 0.8794 - val_loss: 0.3141 - val_binary_accuracy: 0.8699\n",
      "Epoch 5/30\n",
      "80/80 [==============================] - 16s 207ms/step - loss: 0.2723 - binary_accuracy: 0.8927 - val_loss: 0.3098 - val_binary_accuracy: 0.8733\n",
      "Epoch 6/30\n",
      "80/80 [==============================] - 17s 207ms/step - loss: 0.2537 - binary_accuracy: 0.8956 - val_loss: 0.3022 - val_binary_accuracy: 0.8751\n",
      "Epoch 7/30\n",
      "80/80 [==============================] - 17s 215ms/step - loss: 0.2354 - binary_accuracy: 0.9080 - val_loss: 0.3075 - val_binary_accuracy: 0.8723\n",
      "Epoch 8/30\n",
      "80/80 [==============================] - 17s 214ms/step - loss: 0.2231 - binary_accuracy: 0.9152 - val_loss: 0.3049 - val_binary_accuracy: 0.8741\n",
      "Epoch 9/30\n",
      "80/80 [==============================] - 17s 211ms/step - loss: 0.2157 - binary_accuracy: 0.9207 - val_loss: 0.3012 - val_binary_accuracy: 0.8780\n",
      "Epoch 10/30\n",
      "80/80 [==============================] - 17s 213ms/step - loss: 0.2071 - binary_accuracy: 0.9226 - val_loss: 0.3069 - val_binary_accuracy: 0.8780\n",
      "Epoch 11/30\n",
      "80/80 [==============================] - 17s 213ms/step - loss: 0.1951 - binary_accuracy: 0.9261 - val_loss: 0.3021 - val_binary_accuracy: 0.8786\n",
      "Epoch 12/30\n",
      "80/80 [==============================] - 17s 210ms/step - loss: 0.1937 - binary_accuracy: 0.9265 - val_loss: 0.3006 - val_binary_accuracy: 0.8794\n",
      "Epoch 13/30\n",
      "80/80 [==============================] - 17s 213ms/step - loss: 0.1877 - binary_accuracy: 0.9275 - val_loss: 0.3043 - val_binary_accuracy: 0.8769\n",
      "Epoch 14/30\n",
      "80/80 [==============================] - 17s 212ms/step - loss: 0.1835 - binary_accuracy: 0.9283 - val_loss: 0.3283 - val_binary_accuracy: 0.8715\n",
      "Epoch 15/30\n",
      "80/80 [==============================] - 17s 212ms/step - loss: 0.2057 - binary_accuracy: 0.9158 - val_loss: 0.3482 - val_binary_accuracy: 0.8634\n",
      "Epoch 16/30\n",
      "80/80 [==============================] - 17s 210ms/step - loss: 0.2090 - binary_accuracy: 0.9140 - val_loss: 0.3111 - val_binary_accuracy: 0.8798\n",
      "Epoch 17/30\n",
      "80/80 [==============================] - 17s 211ms/step - loss: 0.2019 - binary_accuracy: 0.9175 - val_loss: 0.3352 - val_binary_accuracy: 0.8648\n",
      "Epoch 18/30\n",
      "80/80 [==============================] - 17s 213ms/step - loss: 0.2148 - binary_accuracy: 0.9076 - val_loss: 0.3454 - val_binary_accuracy: 0.8590\n",
      "Epoch 19/30\n",
      "80/80 [==============================] - 17s 213ms/step - loss: 0.1931 - binary_accuracy: 0.9179 - val_loss: 0.3115 - val_binary_accuracy: 0.8812\n",
      "Epoch 20/30\n",
      "80/80 [==============================] - 17s 210ms/step - loss: 0.1761 - binary_accuracy: 0.9261 - val_loss: 0.3133 - val_binary_accuracy: 0.8790\n",
      "Epoch 21/30\n",
      "80/80 [==============================] - 17s 214ms/step - loss: 0.1606 - binary_accuracy: 0.9367 - val_loss: 0.3252 - val_binary_accuracy: 0.8761\n",
      "Epoch 22/30\n",
      "80/80 [==============================] - 17s 211ms/step - loss: 0.1379 - binary_accuracy: 0.9480 - val_loss: 0.3385 - val_binary_accuracy: 0.8715\n",
      "Epoch 23/30\n",
      "80/80 [==============================] - 17s 211ms/step - loss: 0.1367 - binary_accuracy: 0.9502 - val_loss: 0.3196 - val_binary_accuracy: 0.8792\n",
      "Epoch 24/30\n",
      "80/80 [==============================] - 17s 211ms/step - loss: 0.1300 - binary_accuracy: 0.9523 - val_loss: 0.3274 - val_binary_accuracy: 0.8774\n",
      "Epoch 25/30\n",
      "80/80 [==============================] - 17s 210ms/step - loss: 0.1257 - binary_accuracy: 0.9586 - val_loss: 0.3286 - val_binary_accuracy: 0.8778\n",
      "Epoch 26/30\n",
      "80/80 [==============================] - 17s 210ms/step - loss: 0.1193 - binary_accuracy: 0.9609 - val_loss: 0.3545 - val_binary_accuracy: 0.8664\n",
      "Epoch 27/30\n",
      "80/80 [==============================] - 17s 213ms/step - loss: 0.1203 - binary_accuracy: 0.9609 - val_loss: 0.3340 - val_binary_accuracy: 0.8802\n",
      "Epoch 28/30\n",
      "80/80 [==============================] - 17s 214ms/step - loss: 0.1084 - binary_accuracy: 0.9658 - val_loss: 0.3508 - val_binary_accuracy: 0.8729\n",
      "Epoch 29/30\n",
      "80/80 [==============================] - 17s 214ms/step - loss: 0.1070 - binary_accuracy: 0.9662 - val_loss: 0.3584 - val_binary_accuracy: 0.8709\n",
      "Epoch 30/30\n",
      "80/80 [==============================] - 17s 211ms/step - loss: 0.1035 - binary_accuracy: 0.9683 - val_loss: 0.3520 - val_binary_accuracy: 0.8725\n"
     ]
    }
   ],
   "source": [
    "history = model.fit(\n",
    "    ds_train,\n",
    "    validation_data=ds_valid,\n",
    "    epochs=30,\n",
    ")"
   ]
  },
  {
   "cell_type": "code",
   "execution_count": 6,
   "id": "8aa324f7",
   "metadata": {},
   "outputs": [
    {
     "data": {
      "image/png": "[encoded data removed]",
      "text/plain": [
       "<Figure size 432x288 with 1 Axes>"
      ]
     },
     "metadata": {
      "needs_background": "light"
     },
     "output_type": "display_data"
    },
    {
     "data": {
      "image/png": "[encoded data removed]",
      "text/plain": [
       "<Figure size 432x288 with 1 Axes>"
      ]
     },
     "metadata": {
      "needs_background": "light"
     },
     "output_type": "display_data"
    }
   ],
   "source": [
    "history_frame = pd.DataFrame(history.history)\n",
    "\n",
    "history_frame.loc[:, ['loss', 'val_loss']].plot()\n",
    "history_frame.loc[:, ['binary_accuracy', 'val_binary_accuracy']].plot();"
   ]
  }
 ],
 "metadata": {
  "kernelspec": {
   "display_name": "Python 3 (ipykernel)",
   "language": "python",
   "name": "python3"
  },
  "language_info": {
   "codemirror_mode": {
    "name": "ipython",
    "version": 3
   },
   "file_extension": ".py",
   "mimetype": "text/x-python",
   "name": "python",
   "nbconvert_exporter": "python",
   "pygments_lexer": "ipython3",
   "version": "3.9.12"
  }
 },
 "nbformat": 4,
 "nbformat_minor": 5
}
