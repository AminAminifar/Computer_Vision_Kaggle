{
 "cells": [
  {
   "cell_type": "markdown",
   "id": "bc573d3a",
   "metadata": {},
   "source": [
    "# L1: Exercise: The Convolutional Classifier"
   ]
  },
  {
   "cell_type": "code",
   "execution_count": 11,
   "id": "05b81219",
   "metadata": {},
   "outputs": [],
   "source": [
    "# Imports\n",
    "import os, warnings\n",
    "import matplotlib.pyplot as plt\n",
    "from matplotlib import gridspec\n",
    "\n",
    "import numpy as np\n",
    "import tensorflow as tf\n",
    "from tensorflow.keras.preprocessing import image_dataset_from_directory\n",
    "\n",
    "# import tensorflow_hub as hub\n",
    "\n",
    "from tensorflow import keras\n",
    "from tensorflow.keras import layers\n",
    "\n",
    "import pandas as pd"
   ]
  },
  {
   "cell_type": "code",
   "execution_count": 3,
   "id": "28253b63",
   "metadata": {},
   "outputs": [
    {
     "name": "stdout",
     "output_type": "stream",
     "text": [
      "Found 5117 files belonging to 2 classes.\n",
      "Found 5051 files belonging to 2 classes.\n"
     ]
    }
   ],
   "source": [
    "# Reproducability\n",
    "def set_seed(seed=31415):\n",
    "    np.random.seed(seed)\n",
    "    tf.random.set_seed(seed)\n",
    "    os.environ['PYTHONHASHSEED'] = str(seed)\n",
    "    os.environ['TF_DETERMINISTIC_OPS'] = '1'\n",
    "set_seed()\n",
    "\n",
    "# Set Matplotlib defaults\n",
    "plt.rc('figure', autolayout=True)\n",
    "plt.rc('axes', labelweight='bold', labelsize='large',\n",
    "       titleweight='bold', titlesize=18, titlepad=10)\n",
    "plt.rc('image', cmap='magma')\n",
    "warnings.filterwarnings(\"ignore\") # to clean up output cells\n",
    "\n",
    "\n",
    "# Load training and validation sets\n",
    "ds_train_ = image_dataset_from_directory(\n",
    "    'C:/Amin/Workspace/Data/Kaggle/Computer Vision/archive/train',\n",
    "    labels='inferred',\n",
    "    label_mode='binary',\n",
    "    image_size=[128, 128],\n",
    "    interpolation='nearest',\n",
    "    batch_size=64,\n",
    "    shuffle=True,\n",
    ")\n",
    "ds_valid_ = image_dataset_from_directory(\n",
    "    'C:/Amin/Workspace/Data/Kaggle/Computer Vision/archive/valid',\n",
    "    labels='inferred',\n",
    "    label_mode='binary',\n",
    "    image_size=[128, 128],\n",
    "    interpolation='nearest',\n",
    "    batch_size=64,\n",
    "    shuffle=False,\n",
    ")\n",
    "\n",
    "# Data Pipeline\n",
    "def convert_to_float(image, label):\n",
    "    image = tf.image.convert_image_dtype(image, dtype=tf.float32)\n",
    "    return image, label\n",
    "\n",
    "AUTOTUNE = tf.data.experimental.AUTOTUNE\n",
    "ds_train = (\n",
    "    ds_train_\n",
    "    .map(convert_to_float)\n",
    "    .cache()\n",
    "    .prefetch(buffer_size=AUTOTUNE)\n",
    ")\n",
    "ds_valid = (\n",
    "    ds_valid_\n",
    "    .map(convert_to_float)\n",
    "    .cache()\n",
    "    .prefetch(buffer_size=AUTOTUNE)\n",
    ")\n"
   ]
  },
  {
   "cell_type": "code",
   "execution_count": 5,
   "id": "0af44864",
   "metadata": {},
   "outputs": [
    {
     "name": "stdout",
     "output_type": "stream",
     "text": [
      "WARNING:tensorflow:SavedModel saved prior to TF 2.5 detected when loading Keras model. Please ensure that you are saving the model with model.save() or tf.keras.models.save_model(), *NOT* tf.saved_model.save(). To confirm, there should be a file named \"keras_metadata.pb\" in the SavedModel directory.\n",
      "WARNING:tensorflow:No training configuration found in save file, so the model was *not* compiled. Compile it manually.\n"
     ]
    }
   ],
   "source": [
    "pretrained_base = tf.keras.models.load_model(\n",
    "    'C:/Amin/Workspace/Data/Kaggle/Computer Vision/archive (2)/cv-course-models/inceptionv1'\n",
    ")"
   ]
  },
  {
   "cell_type": "markdown",
   "id": "9ba5802c",
   "metadata": {},
   "source": [
    "1) Define Pretrained Base"
   ]
  },
  {
   "cell_type": "code",
   "execution_count": 6,
   "id": "d76304b7",
   "metadata": {},
   "outputs": [],
   "source": [
    "pretrained_base.trainable = False"
   ]
  },
  {
   "cell_type": "markdown",
   "id": "f399e2bf",
   "metadata": {},
   "source": [
    "When doing transfer learning, it's generally not a good idea to retrain the entire base -- at least not without some care. The reason is that the random weights in the head will initially create large gradient updates, which propogate back into the base layers and destroy much of the pretraining. Using techniques known as fine tuning it's possible to further train the base on new data, but this requires some care to do well."
   ]
  },
  {
   "cell_type": "markdown",
   "id": "37ec5e22",
   "metadata": {},
   "source": [
    "2) Attach Head"
   ]
  },
  {
   "cell_type": "code",
   "execution_count": 8,
   "id": "c4990dfd",
   "metadata": {},
   "outputs": [],
   "source": [
    "model = keras.Sequential([\n",
    "    pretrained_base,\n",
    "    layers.Flatten(),\n",
    "    # Attach a head of dense layers.\n",
    "    layers.Dense(6, activation='relu'),\n",
    "    layers.Dense(1, activation='sigmoid'),\n",
    "])"
   ]
  },
  {
   "cell_type": "markdown",
   "id": "633880d8",
   "metadata": {},
   "source": [
    "3) Train"
   ]
  },
  {
   "cell_type": "code",
   "execution_count": 9,
   "id": "e5a4d62b",
   "metadata": {},
   "outputs": [],
   "source": [
    "optimizer = tf.keras.optimizers.Adam(epsilon=0.01)\n",
    "model.compile(\n",
    "    optimizer='adam',\n",
    "    loss = 'binary_crossentropy',\n",
    "    metrics=['binary_accuracy'],\n",
    ")"
   ]
  },
  {
   "cell_type": "code",
   "execution_count": 10,
   "id": "2423213d",
   "metadata": {},
   "outputs": [
    {
     "name": "stdout",
     "output_type": "stream",
     "text": [
      "Epoch 1/30\n",
      "80/80 [==============================] - 15s 76ms/step - loss: 0.6936 - binary_accuracy: 0.5706 - val_loss: 0.6890 - val_binary_accuracy: 0.5791\n",
      "Epoch 2/30\n",
      "80/80 [==============================] - 4s 51ms/step - loss: 0.6672 - binary_accuracy: 0.6232 - val_loss: 0.5768 - val_binary_accuracy: 0.8091\n",
      "Epoch 3/30\n",
      "80/80 [==============================] - 4s 50ms/step - loss: 0.5536 - binary_accuracy: 0.8104 - val_loss: 0.5390 - val_binary_accuracy: 0.8220\n",
      "Epoch 4/30\n",
      "80/80 [==============================] - 4s 50ms/step - loss: 0.5186 - binary_accuracy: 0.8296 - val_loss: 0.5104 - val_binary_accuracy: 0.8337\n",
      "Epoch 5/30\n",
      "80/80 [==============================] - 4s 51ms/step - loss: 0.4951 - binary_accuracy: 0.8435 - val_loss: 0.4905 - val_binary_accuracy: 0.8414\n",
      "Epoch 6/30\n",
      "80/80 [==============================] - 4s 51ms/step - loss: 0.4763 - binary_accuracy: 0.8485 - val_loss: 0.4766 - val_binary_accuracy: 0.8414\n",
      "Epoch 7/30\n",
      "80/80 [==============================] - 4s 51ms/step - loss: 0.4607 - binary_accuracy: 0.8517 - val_loss: 0.4658 - val_binary_accuracy: 0.8402\n",
      "Epoch 8/30\n",
      "80/80 [==============================] - 4s 50ms/step - loss: 0.4469 - binary_accuracy: 0.8552 - val_loss: 0.4520 - val_binary_accuracy: 0.8458\n",
      "Epoch 9/30\n",
      "80/80 [==============================] - 4s 51ms/step - loss: 0.4338 - binary_accuracy: 0.8589 - val_loss: 0.4417 - val_binary_accuracy: 0.8458\n",
      "Epoch 10/30\n",
      "80/80 [==============================] - 4s 51ms/step - loss: 0.4229 - binary_accuracy: 0.8614 - val_loss: 0.4317 - val_binary_accuracy: 0.8497\n",
      "Epoch 11/30\n",
      "80/80 [==============================] - 4s 51ms/step - loss: 0.4131 - binary_accuracy: 0.8638 - val_loss: 0.4234 - val_binary_accuracy: 0.8517\n",
      "Epoch 12/30\n",
      "80/80 [==============================] - 4s 51ms/step - loss: 0.4033 - binary_accuracy: 0.8665 - val_loss: 0.4164 - val_binary_accuracy: 0.8547\n",
      "Epoch 13/30\n",
      "80/80 [==============================] - 4s 51ms/step - loss: 0.3927 - binary_accuracy: 0.8712 - val_loss: 0.4105 - val_binary_accuracy: 0.8547\n",
      "Epoch 14/30\n",
      "80/80 [==============================] - 4s 51ms/step - loss: 0.3844 - binary_accuracy: 0.8726 - val_loss: 0.4045 - val_binary_accuracy: 0.8561\n",
      "Epoch 15/30\n",
      "80/80 [==============================] - 4s 51ms/step - loss: 0.3753 - binary_accuracy: 0.8749 - val_loss: 0.3992 - val_binary_accuracy: 0.8565\n",
      "Epoch 16/30\n",
      "80/80 [==============================] - 4s 51ms/step - loss: 0.3662 - binary_accuracy: 0.8786 - val_loss: 0.3941 - val_binary_accuracy: 0.8573\n",
      "Epoch 17/30\n",
      "80/80 [==============================] - 4s 51ms/step - loss: 0.3577 - binary_accuracy: 0.8831 - val_loss: 0.3894 - val_binary_accuracy: 0.8561\n",
      "Epoch 18/30\n",
      "80/80 [==============================] - 4s 51ms/step - loss: 0.3503 - binary_accuracy: 0.8853 - val_loss: 0.3854 - val_binary_accuracy: 0.8573\n",
      "Epoch 19/30\n",
      "80/80 [==============================] - 4s 51ms/step - loss: 0.3433 - binary_accuracy: 0.8851 - val_loss: 0.3815 - val_binary_accuracy: 0.8569\n",
      "Epoch 20/30\n",
      "80/80 [==============================] - 4s 51ms/step - loss: 0.3369 - binary_accuracy: 0.8863 - val_loss: 0.3782 - val_binary_accuracy: 0.8571\n",
      "Epoch 21/30\n",
      "80/80 [==============================] - 4s 51ms/step - loss: 0.3309 - binary_accuracy: 0.8888 - val_loss: 0.3756 - val_binary_accuracy: 0.8559\n",
      "Epoch 22/30\n",
      "80/80 [==============================] - 4s 51ms/step - loss: 0.3253 - binary_accuracy: 0.8915 - val_loss: 0.3730 - val_binary_accuracy: 0.8549\n",
      "Epoch 23/30\n",
      "80/80 [==============================] - 4s 51ms/step - loss: 0.3203 - binary_accuracy: 0.8917 - val_loss: 0.3707 - val_binary_accuracy: 0.8559\n",
      "Epoch 24/30\n",
      "80/80 [==============================] - 4s 51ms/step - loss: 0.3162 - binary_accuracy: 0.8951 - val_loss: 0.3687 - val_binary_accuracy: 0.8557\n",
      "Epoch 25/30\n",
      "80/80 [==============================] - 4s 52ms/step - loss: 0.3120 - binary_accuracy: 0.8953 - val_loss: 0.3668 - val_binary_accuracy: 0.8565\n",
      "Epoch 26/30\n",
      "80/80 [==============================] - 4s 51ms/step - loss: 0.3074 - binary_accuracy: 0.8972 - val_loss: 0.3650 - val_binary_accuracy: 0.8567\n",
      "Epoch 27/30\n",
      "80/80 [==============================] - 4s 51ms/step - loss: 0.3038 - binary_accuracy: 0.8982 - val_loss: 0.3644 - val_binary_accuracy: 0.8551\n",
      "Epoch 28/30\n",
      "80/80 [==============================] - 4s 51ms/step - loss: 0.3003 - binary_accuracy: 0.9001 - val_loss: 0.3633 - val_binary_accuracy: 0.8553\n",
      "Epoch 29/30\n",
      "80/80 [==============================] - 4s 51ms/step - loss: 0.2966 - binary_accuracy: 0.8999 - val_loss: 0.3622 - val_binary_accuracy: 0.8537\n",
      "Epoch 30/30\n",
      "80/80 [==============================] - 4s 51ms/step - loss: 0.2938 - binary_accuracy: 0.9013 - val_loss: 0.3612 - val_binary_accuracy: 0.8539\n"
     ]
    }
   ],
   "source": [
    "history = model.fit(\n",
    "    ds_train,\n",
    "    validation_data=ds_valid,\n",
    "    epochs=30,\n",
    ")"
   ]
  },
  {
   "cell_type": "markdown",
   "id": "f65ad8c0",
   "metadata": {},
   "source": [
    "plot the loss and metric curves for this training run."
   ]
  },
  {
   "cell_type": "code",
   "execution_count": 12,
   "id": "a0972668",
   "metadata": {},
   "outputs": [
    {
     "data": {
      "image/png": "[encoded data removed]",
      "text/plain": [
       "<Figure size 432x288 with 1 Axes>"
      ]
     },
     "metadata": {
      "needs_background": "light"
     },
     "output_type": "display_data"
    },
    {
     "data": {
      "image/png": "[encoded data removed]",
      "text/plain": [
       "<Figure size 432x288 with 1 Axes>"
      ]
     },
     "metadata": {
      "needs_background": "light"
     },
     "output_type": "display_data"
    }
   ],
   "source": [
    "history_frame = pd.DataFrame(history.history)\n",
    "history_frame.loc[:, ['loss', 'val_loss']].plot()\n",
    "history_frame.loc[:, ['binary_accuracy', 'val_binary_accuracy']].plot();"
   ]
  }
 ],
 "metadata": {
  "kernelspec": {
   "display_name": "Python 3 (ipykernel)",
   "language": "python",
   "name": "python3"
  },
  "language_info": {
   "codemirror_mode": {
    "name": "ipython",
    "version": 3
   },
   "file_extension": ".py",
   "mimetype": "text/x-python",
   "name": "python",
   "nbconvert_exporter": "python",
   "pygments_lexer": "ipython3",
   "version": "3.9.12"
  }
 },
 "nbformat": 4,
 "nbformat_minor": 5
}
