{
 "cells": [
  {
   "cell_type": "markdown",
   "id": "c21336f6",
   "metadata": {},
   "source": [
    "# L5: Exercise: Custom Convnets"
   ]
  },
  {
   "cell_type": "code",
   "execution_count": 1,
   "id": "b157993d",
   "metadata": {},
   "outputs": [],
   "source": [
    "# Imports\n",
    "import os, warnings\n",
    "import matplotlib.pyplot as plt\n",
    "from matplotlib import gridspec\n",
    "\n",
    "import numpy as np\n",
    "import tensorflow as tf\n",
    "from tensorflow.keras.preprocessing import image_dataset_from_directory\n",
    "\n",
    "from tensorflow import keras\n",
    "from tensorflow.keras import layers\n",
    "\n",
    "import pandas as pd"
   ]
  },
  {
   "cell_type": "code",
   "execution_count": 2,
   "id": "d2686ec0",
   "metadata": {},
   "outputs": [
    {
     "name": "stdout",
     "output_type": "stream",
     "text": [
      "Found 5117 files belonging to 2 classes.\n",
      "Found 5051 files belonging to 2 classes.\n"
     ]
    }
   ],
   "source": [
    "# Reproducability\n",
    "def set_seed(seed=31415):\n",
    "    np.random.seed(seed)\n",
    "    tf.random.set_seed(seed)\n",
    "    os.environ['PYTHONHASHSEED'] = str(seed)\n",
    "    os.environ['TF_DETERMINISTIC_OPS'] = '1'\n",
    "set_seed()\n",
    "\n",
    "# Set Matplotlib defaults\n",
    "plt.rc('figure', autolayout=True)\n",
    "plt.rc('axes', labelweight='bold', labelsize='large',\n",
    "       titleweight='bold', titlesize=18, titlepad=10)\n",
    "plt.rc('image', cmap='magma')\n",
    "warnings.filterwarnings(\"ignore\") # to clean up output cells\n",
    "\n",
    "\n",
    "# Load training and validation sets\n",
    "ds_train_ = image_dataset_from_directory(\n",
    "    'C:/Amin/Workspace/Data/Kaggle/Computer Vision/archive/train',\n",
    "    labels='inferred',\n",
    "    label_mode='binary',\n",
    "    image_size=[128, 128],\n",
    "    interpolation='nearest',\n",
    "    batch_size=64,\n",
    "    shuffle=True,\n",
    ")\n",
    "ds_valid_ = image_dataset_from_directory(\n",
    "    'C:/Amin/Workspace/Data/Kaggle/Computer Vision/archive/valid',\n",
    "    labels='inferred',\n",
    "    label_mode='binary',\n",
    "    image_size=[128, 128],\n",
    "    interpolation='nearest',\n",
    "    batch_size=64,\n",
    "    shuffle=False,\n",
    ")\n",
    "\n",
    "# Data Pipeline\n",
    "def convert_to_float(image, label):\n",
    "    image = tf.image.convert_image_dtype(image, dtype=tf.float32)\n",
    "    return image, label\n",
    "\n",
    "AUTOTUNE = tf.data.experimental.AUTOTUNE\n",
    "ds_train = (\n",
    "    ds_train_\n",
    "    .map(convert_to_float)\n",
    "    .cache()\n",
    "    .prefetch(buffer_size=AUTOTUNE)\n",
    ")\n",
    "ds_valid = (\n",
    "    ds_valid_\n",
    "    .map(convert_to_float)\n",
    "    .cache()\n",
    "    .prefetch(buffer_size=AUTOTUNE)\n",
    ")\n"
   ]
  },
  {
   "cell_type": "markdown",
   "id": "f1ba4f98",
   "metadata": {},
   "source": [
    "Design a Convnet:\n",
    "\n",
    "1) Define Mode"
   ]
  },
  {
   "cell_type": "code",
   "execution_count": 3,
   "id": "51ff2bac",
   "metadata": {},
   "outputs": [],
   "source": [
    "model = keras.Sequential([\n",
    "    # Block One\n",
    "    layers.Conv2D(filters=32, kernel_size=3, activation='relu', padding='same',\n",
    "                  input_shape=[128, 128, 3]),\n",
    "    layers.MaxPool2D(),\n",
    "\n",
    "    # Block Two\n",
    "    layers.Conv2D(filters=64, kernel_size=3, activation='relu', padding='same'),\n",
    "    layers.MaxPool2D(),\n",
    "\n",
    "    # Block Three\n",
    "    # YOUR CODE HERE\n",
    "    layers.Conv2D(filters=128, kernel_size=3, activation='relu', padding='same'),\n",
    "    layers.Conv2D(filters=128, kernel_size=3, activation='relu', padding='same'),\n",
    "    layers.MaxPool2D(),\n",
    "\n",
    "    # Head\n",
    "    layers.Flatten(),\n",
    "    layers.Dense(6, activation='relu'),\n",
    "    layers.Dropout(0.2),\n",
    "    layers.Dense(1, activation='sigmoid'),\n",
    "])"
   ]
  },
  {
   "cell_type": "markdown",
   "id": "73bb06d7",
   "metadata": {},
   "source": [
    "2) Compile"
   ]
  },
  {
   "cell_type": "code",
   "execution_count": 4,
   "id": "c7fef4eb",
   "metadata": {},
   "outputs": [],
   "source": [
    "model.compile(\n",
    "    optimizer=tf.keras.optimizers.Adam(epsilon=0.01),\n",
    "    # Add loss and metric\n",
    "    loss='binary_crossentropy',\n",
    "    metrics=['binary_accuracy']\n",
    ")"
   ]
  },
  {
   "cell_type": "markdown",
   "id": "95e7b0ba",
   "metadata": {},
   "source": [
    "3) Train the Model"
   ]
  },
  {
   "cell_type": "code",
   "execution_count": 5,
   "id": "a5a5c19f",
   "metadata": {},
   "outputs": [
    {
     "name": "stdout",
     "output_type": "stream",
     "text": [
      "Epoch 1/50\n",
      "80/80 [==============================] - 11s 68ms/step - loss: 0.6816 - binary_accuracy: 0.5744 - val_loss: 0.6691 - val_binary_accuracy: 0.5785\n",
      "Epoch 2/50\n",
      "80/80 [==============================] - 4s 53ms/step - loss: 0.6671 - binary_accuracy: 0.5787 - val_loss: 0.6616 - val_binary_accuracy: 0.5785\n",
      "Epoch 3/50\n",
      "80/80 [==============================] - 4s 53ms/step - loss: 0.6620 - binary_accuracy: 0.5787 - val_loss: 0.6507 - val_binary_accuracy: 0.5785\n",
      "Epoch 4/50\n",
      "80/80 [==============================] - 4s 54ms/step - loss: 0.6532 - binary_accuracy: 0.5787 - val_loss: 0.6445 - val_binary_accuracy: 0.5785\n",
      "Epoch 5/50\n",
      "80/80 [==============================] - 4s 55ms/step - loss: 0.6497 - binary_accuracy: 0.5892 - val_loss: 0.6390 - val_binary_accuracy: 0.5965\n",
      "Epoch 6/50\n",
      "80/80 [==============================] - 4s 55ms/step - loss: 0.6401 - binary_accuracy: 0.6312 - val_loss: 0.6347 - val_binary_accuracy: 0.5949\n",
      "Epoch 7/50\n",
      "80/80 [==============================] - 4s 55ms/step - loss: 0.6379 - binary_accuracy: 0.6359 - val_loss: 0.6304 - val_binary_accuracy: 0.6046\n",
      "Epoch 8/50\n",
      "80/80 [==============================] - 4s 56ms/step - loss: 0.6308 - binary_accuracy: 0.6490 - val_loss: 0.6250 - val_binary_accuracy: 0.6268\n",
      "Epoch 9/50\n",
      "80/80 [==============================] - 4s 56ms/step - loss: 0.6246 - binary_accuracy: 0.6572 - val_loss: 0.6158 - val_binary_accuracy: 0.6510\n",
      "Epoch 10/50\n",
      "80/80 [==============================] - 4s 56ms/step - loss: 0.6181 - binary_accuracy: 0.6670 - val_loss: 0.6173 - val_binary_accuracy: 0.6484\n",
      "Epoch 11/50\n",
      "80/80 [==============================] - 4s 56ms/step - loss: 0.6111 - binary_accuracy: 0.6744 - val_loss: 0.6074 - val_binary_accuracy: 0.6630\n",
      "Epoch 12/50\n",
      "80/80 [==============================] - 4s 56ms/step - loss: 0.6061 - binary_accuracy: 0.6848 - val_loss: 0.6043 - val_binary_accuracy: 0.6646\n",
      "Epoch 13/50\n",
      "80/80 [==============================] - 4s 56ms/step - loss: 0.5947 - binary_accuracy: 0.6990 - val_loss: 0.6014 - val_binary_accuracy: 0.6624\n",
      "Epoch 14/50\n",
      "80/80 [==============================] - 4s 56ms/step - loss: 0.5856 - binary_accuracy: 0.7071 - val_loss: 0.5929 - val_binary_accuracy: 0.6981\n",
      "Epoch 15/50\n",
      "80/80 [==============================] - 4s 56ms/step - loss: 0.5735 - binary_accuracy: 0.7164 - val_loss: 0.5794 - val_binary_accuracy: 0.7080\n",
      "Epoch 16/50\n",
      "80/80 [==============================] - 5s 57ms/step - loss: 0.5597 - binary_accuracy: 0.7270 - val_loss: 0.5678 - val_binary_accuracy: 0.7003\n",
      "Epoch 17/50\n",
      "80/80 [==============================] - 4s 56ms/step - loss: 0.5400 - binary_accuracy: 0.7303 - val_loss: 0.5514 - val_binary_accuracy: 0.7181\n",
      "Epoch 18/50\n",
      "80/80 [==============================] - 4s 56ms/step - loss: 0.5084 - binary_accuracy: 0.7602 - val_loss: 0.5140 - val_binary_accuracy: 0.7452\n",
      "Epoch 19/50\n",
      "80/80 [==============================] - 5s 57ms/step - loss: 0.4788 - binary_accuracy: 0.7753 - val_loss: 0.4946 - val_binary_accuracy: 0.7602\n",
      "Epoch 20/50\n",
      "80/80 [==============================] - 4s 56ms/step - loss: 0.4541 - binary_accuracy: 0.7927 - val_loss: 0.4724 - val_binary_accuracy: 0.7796\n",
      "Epoch 21/50\n",
      "80/80 [==============================] - 5s 57ms/step - loss: 0.4301 - binary_accuracy: 0.8071 - val_loss: 0.5136 - val_binary_accuracy: 0.7331\n",
      "Epoch 22/50\n",
      "80/80 [==============================] - 4s 56ms/step - loss: 0.4013 - binary_accuracy: 0.8202 - val_loss: 0.4426 - val_binary_accuracy: 0.7977\n",
      "Epoch 23/50\n",
      "80/80 [==============================] - 4s 55ms/step - loss: 0.3742 - binary_accuracy: 0.8370 - val_loss: 0.4813 - val_binary_accuracy: 0.7676\n",
      "Epoch 24/50\n",
      "80/80 [==============================] - 4s 54ms/step - loss: 0.3417 - binary_accuracy: 0.8579 - val_loss: 0.4753 - val_binary_accuracy: 0.7628\n",
      "Epoch 25/50\n",
      "80/80 [==============================] - 4s 54ms/step - loss: 0.3201 - binary_accuracy: 0.8620 - val_loss: 0.4204 - val_binary_accuracy: 0.8113\n",
      "Epoch 26/50\n",
      "80/80 [==============================] - 4s 54ms/step - loss: 0.2992 - binary_accuracy: 0.8714 - val_loss: 0.5122 - val_binary_accuracy: 0.7796\n",
      "Epoch 27/50\n",
      "80/80 [==============================] - 4s 53ms/step - loss: 0.3040 - binary_accuracy: 0.8722 - val_loss: 0.4147 - val_binary_accuracy: 0.8206\n",
      "Epoch 28/50\n",
      "80/80 [==============================] - 4s 54ms/step - loss: 0.2815 - binary_accuracy: 0.8761 - val_loss: 0.4590 - val_binary_accuracy: 0.8042\n",
      "Epoch 29/50\n",
      "80/80 [==============================] - 4s 54ms/step - loss: 0.2625 - binary_accuracy: 0.8894 - val_loss: 0.4381 - val_binary_accuracy: 0.8323\n",
      "Epoch 30/50\n",
      "80/80 [==============================] - 4s 54ms/step - loss: 0.2325 - binary_accuracy: 0.9081 - val_loss: 0.4163 - val_binary_accuracy: 0.8361\n",
      "Epoch 31/50\n",
      "80/80 [==============================] - 4s 53ms/step - loss: 0.2188 - binary_accuracy: 0.9115 - val_loss: 0.3918 - val_binary_accuracy: 0.8359\n",
      "Epoch 32/50\n",
      "80/80 [==============================] - 4s 55ms/step - loss: 0.2261 - binary_accuracy: 0.9042 - val_loss: 0.4238 - val_binary_accuracy: 0.8319\n",
      "Epoch 33/50\n",
      "80/80 [==============================] - 4s 54ms/step - loss: 0.2018 - binary_accuracy: 0.9232 - val_loss: 0.6018 - val_binary_accuracy: 0.8109\n",
      "Epoch 34/50\n",
      "80/80 [==============================] - 4s 54ms/step - loss: 0.2061 - binary_accuracy: 0.9173 - val_loss: 0.5204 - val_binary_accuracy: 0.8177\n",
      "Epoch 35/50\n",
      "80/80 [==============================] - 4s 53ms/step - loss: 0.1601 - binary_accuracy: 0.9402 - val_loss: 0.5279 - val_binary_accuracy: 0.8228\n",
      "Epoch 36/50\n",
      "80/80 [==============================] - 4s 53ms/step - loss: 0.1585 - binary_accuracy: 0.9373 - val_loss: 0.5497 - val_binary_accuracy: 0.8200\n",
      "Epoch 37/50\n",
      "80/80 [==============================] - 4s 55ms/step - loss: 0.1670 - binary_accuracy: 0.9318 - val_loss: 0.7098 - val_binary_accuracy: 0.8127\n",
      "Epoch 38/50\n",
      "80/80 [==============================] - 4s 55ms/step - loss: 0.1582 - binary_accuracy: 0.9404 - val_loss: 0.5750 - val_binary_accuracy: 0.8175\n",
      "Epoch 39/50\n",
      "80/80 [==============================] - 4s 55ms/step - loss: 0.1451 - binary_accuracy: 0.9476 - val_loss: 0.7207 - val_binary_accuracy: 0.7971\n",
      "Epoch 40/50\n",
      "80/80 [==============================] - 5s 57ms/step - loss: 0.1195 - binary_accuracy: 0.9523 - val_loss: 0.6817 - val_binary_accuracy: 0.8111\n",
      "Epoch 41/50\n",
      "80/80 [==============================] - 5s 59ms/step - loss: 0.1533 - binary_accuracy: 0.9455 - val_loss: 0.6207 - val_binary_accuracy: 0.8256\n",
      "Epoch 42/50\n",
      "80/80 [==============================] - 5s 58ms/step - loss: 0.1307 - binary_accuracy: 0.9502 - val_loss: 0.4809 - val_binary_accuracy: 0.8412\n",
      "Epoch 43/50\n",
      "80/80 [==============================] - 5s 59ms/step - loss: 0.1184 - binary_accuracy: 0.9549 - val_loss: 0.5780 - val_binary_accuracy: 0.8186\n",
      "Epoch 44/50\n",
      "80/80 [==============================] - 5s 59ms/step - loss: 0.1142 - binary_accuracy: 0.9562 - val_loss: 0.5754 - val_binary_accuracy: 0.8185\n",
      "Epoch 45/50\n",
      "80/80 [==============================] - 5s 57ms/step - loss: 0.1034 - binary_accuracy: 0.9642 - val_loss: 0.5073 - val_binary_accuracy: 0.8196\n",
      "Epoch 46/50\n",
      "80/80 [==============================] - 5s 57ms/step - loss: 0.0976 - binary_accuracy: 0.9648 - val_loss: 0.5376 - val_binary_accuracy: 0.8260\n",
      "Epoch 47/50\n",
      "80/80 [==============================] - 4s 56ms/step - loss: 0.0826 - binary_accuracy: 0.9697 - val_loss: 0.7557 - val_binary_accuracy: 0.8406\n",
      "Epoch 48/50\n",
      "80/80 [==============================] - 4s 56ms/step - loss: 0.0773 - binary_accuracy: 0.9711 - val_loss: 0.5604 - val_binary_accuracy: 0.8466\n",
      "Epoch 49/50\n",
      "80/80 [==============================] - 5s 57ms/step - loss: 0.0693 - binary_accuracy: 0.9764 - val_loss: 0.7312 - val_binary_accuracy: 0.8400\n",
      "Epoch 50/50\n",
      "80/80 [==============================] - 5s 57ms/step - loss: 0.0544 - binary_accuracy: 0.9803 - val_loss: 0.7232 - val_binary_accuracy: 0.8535\n"
     ]
    }
   ],
   "source": [
    "history = model.fit(\n",
    "    ds_train,\n",
    "    validation_data=ds_valid,\n",
    "    epochs=50,\n",
    ")"
   ]
  },
  {
   "cell_type": "code",
   "execution_count": 6,
   "id": "52140814",
   "metadata": {},
   "outputs": [
    {
     "data": {
      "image/png": "[encoded data removed]",
      "text/plain": [
       "<Figure size 432x288 with 1 Axes>"
      ]
     },
     "metadata": {
      "needs_background": "light"
     },
     "output_type": "display_data"
    },
    {
     "data": {
      "image/png": "[encoded data removed]",
      "text/plain": [
       "<Figure size 432x288 with 1 Axes>"
      ]
     },
     "metadata": {
      "needs_background": "light"
     },
     "output_type": "display_data"
    }
   ],
   "source": [
    "history_frame = pd.DataFrame(history.history)\n",
    "history_frame.loc[:, ['loss', 'val_loss']].plot()\n",
    "history_frame.loc[:, ['binary_accuracy', 'val_binary_accuracy']].plot();"
   ]
  }
 ],
 "metadata": {
  "kernelspec": {
   "display_name": "Python 3 (ipykernel)",
   "language": "python",
   "name": "python3"
  },
  "language_info": {
   "codemirror_mode": {
    "name": "ipython",
    "version": 3
   },
   "file_extension": ".py",
   "mimetype": "text/x-python",
   "name": "python",
   "nbconvert_exporter": "python",
   "pygments_lexer": "ipython3",
   "version": "3.9.12"
  }
 },
 "nbformat": 4,
 "nbformat_minor": 5
}
